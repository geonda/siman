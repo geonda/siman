{
 "cells": [
  {
   "cell_type": "code",
   "execution_count": 1,
   "metadata": {},
   "outputs": [],
   "source": [
    "from siman import header\n",
    "from siman.SSHTools import SSHTools\n",
    "from siman.calc_manage import add,res_loop\n",
    "from siman.database import write_database, read_database\n",
    "from siman.calc_manage import smart_structure_read"
   ]
  },
  {
   "cell_type": "code",
   "execution_count": 2,
   "metadata": {},
   "outputs": [],
   "source": [
    "# for the moment we need to provide path to QE potentials\n",
    "# path to QE POTENTIALS\n",
    "header.PATH2POTENTIALS = '/path/2/pseudopotentials'\n",
    "\n",
    "# and tell siman about remote cluster used for calculations\n",
    "user = \"d.aksenov\"\n",
    "host = \"10.30.16.168\"\n",
    "\n",
    "header.CLUSTERS['1'] = {\n",
    "    # this is used for ssh, make sure you have created passwordless [setup](https://www.thegeekdiary.com/centos-rhel-how-to-setup-passwordless-ssh-login/)\n",
    "    'address': user+'@'+host,\n",
    "    'qe_command': 'mpirun  path/to/pw.x', ## command on your cluster to run QE\n",
    "    'homepath': '/home/'+user,  # your home folder on cluster\n",
    "    # job scheduler  on your cluster; other options: 'PBS', 'SGE', 'none' (no scheduler)\n",
    "    'schedule': 'SLURM',\n",
    "    'walltime': '72:00:00',     # time required for job\n",
    "    'corenum': 16,              # number of cores required for job\n",
    "    'modules': 'module load ScriptLang/python/3.6i_2018u3; module load Compiler/Intel/19u5 Q-Ch/QE/6.4.1/intel/2019u5;  \\nulimit -s unlimited\\n',\n",
    "}\n",
    "\n",
    "\n",
    "header.ssh_object = SSHTools()\n",
    "header.ssh_object.setup(user=user, host=host,\n",
    "                        pkey=\"path/to/privatekey\")"
   ]
  },
  {
   "cell_type": "code",
   "execution_count": null,
   "metadata": {},
   "outputs": [],
   "source": [
    "read_database()\n",
    "\n",
    "st = smart_structure_read(input_geo_file='./structure/Li.POSCAR')\n"
   ]
  },
  {
   "cell_type": "code",
   "execution_count": null,
   "metadata": {},
   "outputs": [],
   "source": [
    "\n",
    "add('Li', 'qe', 1, input_st=st, it_folder=f'path/to/remote/dir', run=0, cluster='1', params={'calculator': 'qe', 'update_set_dic': {\"system\": {\"ecutwfc\": \"100\", }}})\n",
    "\n",
    "write_database()"
   ]
  },
  {
   "cell_type": "code",
   "execution_count": null,
   "metadata": {},
   "outputs": [],
   "source": [
    "res_loop('Li', ['qe'], [1], show='fo')"
   ]
  }
 ],
 "metadata": {
  "kernelspec": {
   "display_name": "siman_local",
   "language": "python",
   "name": "python3"
  },
  "language_info": {
   "codemirror_mode": {
    "name": "ipython",
    "version": 3
   },
   "file_extension": ".py",
   "mimetype": "text/x-python",
   "name": "python",
   "nbconvert_exporter": "python",
   "pygments_lexer": "ipython3",
   "version": "3.11.3"
  }
 },
 "nbformat": 4,
 "nbformat_minor": 2
}
